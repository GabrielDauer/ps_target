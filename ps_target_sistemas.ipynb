{
 "cells": [
  {
   "cell_type": "markdown",
   "metadata": {},
   "source": [
    "1) Observe o trecho de código abaixo:\n",
    "\n",
    "int INDICE = 13, SOMA = 0, K = 0;\n",
    "\n",
    "enquanto K < INDICE faça\n",
    "\n",
    "{\n",
    "\n",
    "K = K + 1;\n",
    "\n",
    "SOMA = SOMA + K;\n",
    "\n",
    "}\n",
    "\n",
    "imprimir(SOMA);\n",
    "\n",
    "\n",
    "\n",
    "Ao final do processamento, qual será o valor da variável SOMA?\n",
    "\n",
    "Considerando que K = 0 E K = K + 1, K irá adicionar 1 ao seu valor até chegar a 12. Por sua vez, SOMA será o valor de SOMA, que é igual a zero somado o valor de K. Exemplo, para K = 0, K = K + 1, então K = 1 e SOMA = SOMA + K, então SOMA = 1, para K = 1, K = 2 e SOMA = 1 + 2 = 3, e assim por diante."
   ]
  },
  {
   "cell_type": "code",
   "execution_count": 5,
   "metadata": {},
   "outputs": [
    {
     "name": "stdout",
     "output_type": "stream",
     "text": [
      "valores parciais de SOMA: 1\n",
      "valores parciais de SOMA: 3\n",
      "valores parciais de SOMA: 6\n",
      "valores parciais de SOMA: 10\n",
      "valores parciais de SOMA: 15\n",
      "valores parciais de SOMA: 21\n",
      "valores parciais de SOMA: 28\n",
      "valores parciais de SOMA: 36\n",
      "valores parciais de SOMA: 45\n",
      "valores parciais de SOMA: 55\n",
      "valores parciais de SOMA: 66\n",
      "valores parciais de SOMA: 78\n",
      "valores parciais de SOMA: 91\n",
      "Valor de SOMA com k = 12: 91\n"
     ]
    }
   ],
   "source": [
    "indice = 13\n",
    "soma = 0 \n",
    "k = 0\n",
    "\n",
    "while k < indice:\n",
    "    k = k + 1\n",
    "    soma = soma + k\n",
    "\n",
    "    print(f'Valores parciais de SOMA: {soma}')\n",
    "\n",
    "print(f'Valor de SOMA com k = 12: {soma}')"
   ]
  },
  {
   "cell_type": "markdown",
   "metadata": {},
   "source": [
    "2) Dado a sequência de Fibonacci, onde se inicia por 0 e 1 e o próximo valor sempre será a soma dos 2 valores anteriores (exemplo: 0, 1, 1, 2, 3, 5, 8, 13, 21, 34...), escreva um programa na linguagem que desejar onde, informado um número, ele calcule a sequência de Fibonacci e retorne uma mensagem avisando se o número informado pertence ou não a sequência.\n",
    "\n",
    "\n",
    "IMPORTANTE:\n",
    "\n",
    "Esse número pode ser informado através de qualquer entrada de sua preferência ou pode ser previamente definido no código;"
   ]
  },
  {
   "cell_type": "code",
   "execution_count": 11,
   "metadata": {},
   "outputs": [
    {
     "name": "stdout",
     "output_type": "stream",
     "text": [
      "459843 não pertence a sequência de Fibonacci.\n",
      "None\n"
     ]
    }
   ],
   "source": [
    "def fibonacci(numero):\n",
    "    fibonacci =  [0, 1]\n",
    "\n",
    "    while fibonacci[-1] < numero:\n",
    "        soma = fibonacci[-1] + fibonacci[-2]\n",
    "        fibonacci.append(soma)\n",
    "\n",
    "    if numero in fibonacci:\n",
    "        print(f'{numero} pertence a sequência de Fibonacci.')\n",
    "    else:\n",
    "        print(f'{numero} não pertence a sequência de Fibonacci.')\n",
    "\n",
    "numero = int(input(\"Digite um número para verificar se ele faz parte da sequência de Fibonacci:\"))\n",
    "print(fibonacci(numero))"
   ]
  },
  {
   "cell_type": "markdown",
   "metadata": {},
   "source": [
    "3) Descubra a lógica e complete o próximo elemento:\n",
    "\n",
    "\n",
    "\n",
    "a) 1, 3, 5, 7, 9\n",
    "\n",
    "b) 2, 4, 8, 16, 32, 64, 128\n",
    "\n",
    "c) 0, 1, 4, 9, 16, 25, 36, 49\n",
    "\n",
    "d) 4, 16, 36, 64, 100\n",
    "\n",
    "e) 1, 1, 2, 3, 5, 8, 13\n",
    "\n",
    "f) 2, 10, 12, 16, 17, 18, 19, 20"
   ]
  },
  {
   "cell_type": "markdown",
   "metadata": {},
   "source": [
    "4) Você está em uma sala com três interruptores, cada um conectado a uma lâmpada em uma sala diferente. Você não pode ver as lâmpadas da sala em que está, mas pode ligar e desligar os interruptores quantas vezes quiser. Seu objetivo é descobrir qual interruptor controla qual lâmpada.\n",
    "\n",
    "Como você faria para descobrir, usando apenas duas idas até uma das salas das lâmpadas, qual interruptor controla cada lâmpada?\n",
    "\n",
    "Ligaria uma lâmpada e deixaria por vários minutos, depois apagar, ligar outra e ir ver as lâmpadas. Quando eu chegasse, veria qual está ligada, que foi a última que liguei, a primeira que liguei estará quente e a terceira estaria apagada."
   ]
  },
  {
   "cell_type": "markdown",
   "metadata": {},
   "source": [
    "5) Escreva um programa que inverta os caracteres de um string.\n",
    "\n",
    "\n",
    "IMPORTANTE:\n",
    "\n",
    "a) Essa string pode ser informada através de qualquer entrada de sua preferência ou pode ser previamente definida no código;\n",
    "\n",
    "b) Evite usar funções prontas, como, por exemplo, reverse;"
   ]
  },
  {
   "cell_type": "code",
   "execution_count": 18,
   "metadata": {},
   "outputs": [
    {
     "name": "stdout",
     "output_type": "stream",
     "text": [
      "Palavra invertida: ogidóc\n"
     ]
    }
   ],
   "source": [
    "def inverter(palavra):\n",
    "    string_invertida = ''\n",
    "\n",
    "    for i in palavra[::-1]:\n",
    "        string_invertida += i\n",
    "\n",
    "    return string_invertida\n",
    "\n",
    "palavra = input('Digite uma palavra: ')\n",
    "print(\"Palavra invertida:\", inverter(palavra))"
   ]
  }
 ],
 "metadata": {
  "kernelspec": {
   "display_name": "Python 3",
   "language": "python",
   "name": "python3"
  },
  "language_info": {
   "codemirror_mode": {
    "name": "ipython",
    "version": 3
   },
   "file_extension": ".py",
   "mimetype": "text/x-python",
   "name": "python",
   "nbconvert_exporter": "python",
   "pygments_lexer": "ipython3",
   "version": "3.11.4"
  }
 },
 "nbformat": 4,
 "nbformat_minor": 2
}
